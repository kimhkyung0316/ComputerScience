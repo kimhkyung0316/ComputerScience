{
 "cells": [
  {
   "cell_type": "code",
   "execution_count": 3,
   "metadata": {},
   "outputs": [],
   "source": [
    "\"\"\"Write a HashTable class that stores strings\n",
    "in a hash table, where keys are calculated\n",
    "using the first two letters of the string.\"\"\"\n",
    "\n",
    "class HashTable(object):\n",
    "    def __init__(self):\n",
    "        self.table = [None]*10000\n",
    "\n",
    "    def store(self, string):\n",
    "        \"\"\"Input a string that's stored in \n",
    "        the table.\"\"\"\n",
    "        val = self.calculate_hash_value(string)\n",
    "        if val != -1:\n",
    "            if self.table[val] != None:\n",
    "                self.table[val].append(string)\n",
    "            else:\n",
    "                self.table[val] = [string]\n",
    "\n",
    "    def lookup(self, string):\n",
    "        \"\"\"Return the hash value if the\n",
    "        string is already in the table.\n",
    "        Return -1 otherwise.\"\"\"\n",
    "        val = self.calculate_hash_value(string)\n",
    "        if val != -1:\n",
    "            if self.table[val] != None:\n",
    "                if string in self.table[val]:\n",
    "                    return val\n",
    "            else:\n",
    "                return -1\n",
    "\n",
    "    def calculate_hash_value(self, string):\n",
    "        \"\"\"Helper function to calulate a\n",
    "        hash value from a string.\"\"\"\n",
    "        return 100 * ord(string[0]) + ord(string[1])"
   ]
  },
  {
   "cell_type": "code",
   "execution_count": 4,
   "metadata": {},
   "outputs": [
    {
     "name": "stdout",
     "output_type": "stream",
     "text": [
      "8568\n",
      "-1\n",
      "8568\n",
      "8568\n"
     ]
    }
   ],
   "source": [
    "# Setup\n",
    "hash_table = HashTable()\n",
    "\n",
    "# Test calculate_hash_value\n",
    "# Should be 8568\n",
    "print hash_table.calculate_hash_value('UDACITY')\n",
    "\n",
    "# Test lookup edge case\n",
    "# Should be -1\n",
    "print hash_table.lookup('UDACITY')\n",
    "\n",
    "# Test store\n",
    "hash_table.store('UDACITY')\n",
    "# Should be 8568\n",
    "print hash_table.lookup('UDACITY')\n",
    "\n",
    "# Test store edge case\n",
    "hash_table.store('UDACIOUS')\n",
    "# Should be 8568\n",
    "print hash_table.lookup('UDACIOUS')"
   ]
  }
 ],
 "metadata": {
  "kernelspec": {
   "display_name": "Python 2",
   "language": "python",
   "name": "python2"
  },
  "language_info": {
   "codemirror_mode": {
    "name": "ipython",
    "version": 2
   },
   "file_extension": ".py",
   "mimetype": "text/x-python",
   "name": "python",
   "nbconvert_exporter": "python",
   "pygments_lexer": "ipython2",
   "version": "2.7.15"
  }
 },
 "nbformat": 4,
 "nbformat_minor": 2
}
