{
 "cells": [
  {
   "cell_type": "code",
   "execution_count": 1,
   "metadata": {},
   "outputs": [],
   "source": [
    "class Element(object):\n",
    "    \"\"\"Generate element for linked list\"\"\"\n",
    "    def __init__(self, value):\n",
    "        self.value = value\n",
    "        self.next = None"
   ]
  },
  {
   "cell_type": "markdown",
   "metadata": {},
   "source": [
    "*********************************The below cell is what I implemented****************************************"
   ]
  },
  {
   "cell_type": "code",
   "execution_count": 6,
   "metadata": {},
   "outputs": [],
   "source": [
    "class LinkedList(object):\n",
    "    def __init__(self, head=None):\n",
    "        self.head = head\n",
    "        \n",
    "    def append(self, new_element):\n",
    "        current = self.head\n",
    "        if self.head:\n",
    "            while current.next:\n",
    "                current = current.next\n",
    "            current.next = new_element\n",
    "        else:\n",
    "            self.head = new_element\n",
    "            \n",
    "    def get_position(self, position):\n",
    "        \"\"\"Get an element from a particular position.\n",
    "        Assume the first position is \"1\".\n",
    "        Return \"None\" if position is not in the list.\"\"\"\n",
    "        idx = 1\n",
    "        current = self.head\n",
    "        if position < 1:\n",
    "            return None\n",
    "        else:\n",
    "            while current and idx <= position:\n",
    "                if idx == position:\n",
    "                    return current\n",
    "                current = current.next\n",
    "                idx += 1\n",
    "            return None\n",
    "    \n",
    "    def insert(self, new_element, position):\n",
    "        \"\"\"Insert a new node at the given position.\n",
    "        Assume the first position is \"1\".\n",
    "        Inserting at position 3 means between\n",
    "        the 2nd and 3rd elements.\"\"\"\n",
    "        i=1\n",
    "        current = self.head\n",
    "        if position > 1:\n",
    "            while current and i < position-1:\n",
    "                current = current.next\n",
    "                i += 1\n",
    "            new_element.next = current.next\n",
    "            current.next = new_element\n",
    "        elif postion == 1:\n",
    "            new_element.next = current\n",
    "            self.head = new_element\n",
    "    \n",
    "    def delete(self, value):\n",
    "        \"\"\"Delete the first node with a given value.\"\"\"\n",
    "        current = self.head\n",
    "        previous = None\n",
    "        while current and current.value != value:\n",
    "            previous = current\n",
    "            current = current.next\n",
    "        if current.value == value:\n",
    "            if previous:\n",
    "                previous.next = current.next\n",
    "            else:\n",
    "                self.head = current.next"
   ]
  },
  {
   "cell_type": "code",
   "execution_count": 7,
   "metadata": {},
   "outputs": [
    {
     "name": "stdout",
     "output_type": "stream",
     "text": [
      "3\n",
      "3\n",
      "4\n",
      "2\n",
      "4\n",
      "3\n"
     ]
    }
   ],
   "source": [
    "# Test cases\n",
    "# Set up some Elements\n",
    "e1 = Element(1)\n",
    "e2 = Element(2)\n",
    "e3 = Element(3)\n",
    "e4 = Element(4)\n",
    "\n",
    "# Start setting up a LinkedList\n",
    "ll = LinkedList(e1)\n",
    "ll.append(e2)\n",
    "ll.append(e3)\n",
    "\n",
    "# Test get_position\n",
    "# Should print 3\n",
    "print ll.head.next.next.value\n",
    "# Should also print 3\n",
    "print ll.get_position(3).value\n",
    "\n",
    "# Test insert\n",
    "ll.insert(e4,3)\n",
    "# Should print 4 now\n",
    "print ll.get_position(3).value\n",
    "\n",
    "# Test delete\n",
    "ll.delete(1)\n",
    "# Should print 2 now\n",
    "print ll.get_position(1).value\n",
    "# Should print 4 now\n",
    "print ll.get_position(2).value\n",
    "# Should print 3 now\n",
    "print ll.get_position(3).value"
   ]
  }
 ],
 "metadata": {
  "kernelspec": {
   "display_name": "Python 2",
   "language": "python",
   "name": "python2"
  },
  "language_info": {
   "codemirror_mode": {
    "name": "ipython",
    "version": 2
   },
   "file_extension": ".py",
   "mimetype": "text/x-python",
   "name": "python",
   "nbconvert_exporter": "python",
   "pygments_lexer": "ipython2",
   "version": "2.7.15"
  }
 },
 "nbformat": 4,
 "nbformat_minor": 2
}
