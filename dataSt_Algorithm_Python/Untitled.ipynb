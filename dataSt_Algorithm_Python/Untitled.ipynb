{
 "cells": [
  {
   "cell_type": "code",
   "execution_count": 3,
   "metadata": {},
   "outputs": [],
   "source": [
    "\"\"\"Implement quick sort in Python.\n",
    "Input a list.\n",
    "Output a sorted list.\"\"\"\n",
    "def quicksort(array):\n",
    "    \"\"\"I decided to select pivot as the first value of the array\"\"\"\n",
    "    if len(array) == 2:\n",
    "        if array[0] > array[1]:\n",
    "            val = array[0]\n",
    "            array[0] = array[1]\n",
    "            array[1] = val\n",
    "        return array\n",
    "    elif len(array) == 1:\n",
    "        return array\n",
    "    else:\n",
    "        pivot = 0\n",
    "        start = pivot\n",
    "        last = len(array)-1\n",
    "        while start < last:\n",
    "            start += 1\n",
    "            if array[start] < array[pivot]:\n",
    "                val = array[start]\n",
    "                array[pivot+1:start+1] = array[pivot:start]\n",
    "                array[pivot] = val\n",
    "                pivot += 1\n",
    "        array[pivot+1:] = quicksort(array[pivot+1:])\n",
    "        array[:pivot] = quicksort(array[:pivot])\n",
    "    return array"
   ]
  },
  {
   "cell_type": "code",
   "execution_count": 4,
   "metadata": {},
   "outputs": [
    {
     "name": "stdout",
     "output_type": "stream",
     "text": [
      "[1, 3, 4, 6, 9, 14, 20, 21, 21, 25]\n"
     ]
    }
   ],
   "source": [
    "test = [21, 4, 1, 3, 9, 20, 25, 6, 21, 14]\n",
    "print quicksort(test)"
   ]
  },
  {
   "cell_type": "code",
   "execution_count": 22,
   "metadata": {},
   "outputs": [],
   "source": [
    "from random import randint\n",
    "\n",
    "def quicksort_rand(array):\n",
    "    \"\"\"I decided to select pivot as a random value between 0 to length of the array\"\"\"\n",
    "    if len(array) == 2:\n",
    "        if array[0] > array[1]:\n",
    "            val = array[0]\n",
    "            array[0] = array[1]\n",
    "            array[1] = val\n",
    "        return array\n",
    "    elif len(array) == 1:\n",
    "        return array\n",
    "    else:\n",
    "        pivot = randint(0, len(array)-1)\n",
    "        print(pivot)\n",
    "        start = pivot\n",
    "        last = len(array)-1\n",
    "        while start < last:\n",
    "            start += 1\n",
    "            if array[start] < array[pivot]:\n",
    "                val = array[start]\n",
    "                array[pivot+1:start+1] = array[pivot:start]\n",
    "                array[pivot] = val\n",
    "                pivot += 1\n",
    "        if len(array[pivot+1:])>0 and len(array[:pivot])>0:\n",
    "            array[pivot+1:] = quicksort(array[pivot+1:])\n",
    "            array[:pivot] = quicksort(array[:pivot])\n",
    "    return array"
   ]
  },
  {
   "cell_type": "code",
   "execution_count": null,
   "metadata": {},
   "outputs": [
    {
     "name": "stdout",
     "output_type": "stream",
     "text": [
      "1\n"
     ]
    }
   ],
   "source": [
    "test = [21, 4, 1, 3, 9, 20, 25, 6, 21, 14]\n",
    "print quicksort_rand(test)"
   ]
  }
 ],
 "metadata": {
  "kernelspec": {
   "display_name": "Python 2",
   "language": "python",
   "name": "python2"
  },
  "language_info": {
   "codemirror_mode": {
    "name": "ipython",
    "version": 2
   },
   "file_extension": ".py",
   "mimetype": "text/x-python",
   "name": "python",
   "nbconvert_exporter": "python",
   "pygments_lexer": "ipython2",
   "version": "2.7.15"
  }
 },
 "nbformat": 4,
 "nbformat_minor": 2
}
