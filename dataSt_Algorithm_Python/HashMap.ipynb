{
 "cells": [
  {
   "cell_type": "code",
   "execution_count": null,
   "metadata": {},
   "outputs": [],
   "source": [
    "\"\"\"Time to play with Python dictionaries!\n",
    "You're going to work on a dictionary that\n",
    "stores cities by country and continent.\n",
    "One is done for you - the city of Mountain \n",
    "View is in the USA, which is in North America.\n",
    "\n",
    "You need to add the cities listed below by\n",
    "modifying the structure.\n",
    "Then, you should print out the values specified\n",
    "by looking them up in the structure.\n",
    "\n",
    "Cities to add:\n",
    "Bangalore (India, Asia)\n",
    "Atlanta (USA, North America)\n",
    "Cairo (Egypt, Africa)\n",
    "Shanghai (China, Asia)\"\"\"\n",
    "\n",
    "locations = {'North America': {'USA': ['Mountain View']}}\n",
    "locations['Asia'] = {'China': ['Shanghai'], 'India': ['Bangalore']}\n",
    "locations['North America']['USA'].append('Atlanta')\n",
    "locations['Africa'] = {'Egypt': ['Cairo']}\n",
    "\n",
    "print '1'\n",
    "usa_sorted = sorted(locations['North America']['USA'])\n",
    "for city in usa_sorted:\n",
    "    print(city)\n",
    "    \n",
    "print '2'\n",
    "Asia_cities = {}\n",
    "for key in locations['Asia'].keys():\n",
    "    for i in locations['Asia'][key]:\n",
    "        Asia_cities[i] = key\n",
    "Asia_cities.keys().sort()\n",
    "for city, country in Asia_cities.items():\n",
    "    print(city+' - '+country)\n",
    "\n",
    "\n",
    "\n",
    "\"\"\"Print the following (using \"print\").\n",
    "1. A list of all cities in the USA in\n",
    "alphabetic order.\n",
    "2. All cities in Asia, in alphabetic\n",
    "order, next to the name of the country.\n",
    "In your output, label each answer with a number\n",
    "so it looks like this:\n",
    "1\n",
    "American City\n",
    "American City\n",
    "2\n",
    "Asian City - Country\n",
    "Asian City - Country\"\"\""
   ]
  }
 ],
 "metadata": {
  "kernelspec": {
   "display_name": "Python 2",
   "language": "python",
   "name": "python2"
  },
  "language_info": {
   "codemirror_mode": {
    "name": "ipython",
    "version": 2
   },
   "file_extension": ".py",
   "mimetype": "text/x-python",
   "name": "python",
   "nbconvert_exporter": "python",
   "pygments_lexer": "ipython2",
   "version": "2.7.15"
  }
 },
 "nbformat": 4,
 "nbformat_minor": 2
}
